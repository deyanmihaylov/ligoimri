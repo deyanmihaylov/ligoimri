{
 "cells": [
  {
   "cell_type": "code",
   "execution_count": 1,
   "metadata": {},
   "outputs": [],
   "source": [
    "from pycbc.waveform import td_approximants, get_td_waveform\n",
    "from pycbc.filter import match\n",
    "from pycbc.psd import aLIGOZeroDetHighPower\n",
    "\n",
    "import numpy\n",
    "import pylab"
   ]
  },
  {
   "cell_type": "code",
   "execution_count": null,
   "metadata": {},
   "outputs": [],
   "source": [
    "f_low = 30\n",
    "sample_rate = 2 * 4096\n",
    "\n",
    "matchVals = []\n",
    "\n",
    "for n in xrange(10, 101):\n",
    "#     print (n)\n",
    "    m1 = 100.0 / (n+1)\n",
    "    m2 = n * 100.0 / (n+1)\n",
    "\n",
    "    hp, hc = get_td_waveform(approximant='HGimri',\n",
    "                             mass1=m1,\n",
    "                             mass2=m2,\n",
    "                             f_lower=f_low,\n",
    "                             delta_t=1.0/sample_rate)\n",
    "\n",
    "    sp, sc = get_td_waveform(approximant='SEOBNRv4',\n",
    "                             mass1=m1,\n",
    "                             mass2=m2,\n",
    "                             f_lower=f_low,\n",
    "                             delta_t=1.0/sample_rate)\n",
    "\n",
    "\n",
    "\n",
    "    # Resize the waveforms to the same length\n",
    "    tlen = max(len(sp), len(hp))\n",
    "    sp.resize(tlen)\n",
    "    hp.resize(tlen)\n",
    "\n",
    "    # Generate the aLIGO ZDHP PSD\n",
    "    delta_f = 1.0 / sp.duration\n",
    "    flen = tlen/2 + 1\n",
    "    psd = aLIGOZeroDetHighPower(flen, delta_f, f_low)\n",
    "\n",
    "    # Note: This takes a while the first time as an FFT plan is generated\n",
    "    # subsequent calls are much faster.\n",
    "    m, i = match(hp, sp, psd=psd, low_frequency_cutoff=f_low)\n",
    "    matchVals.append(m)\n",
    "\n",
    "pylab.plot(xrange(10, 101), numpy.array(matchVals), label=\"Match value\")\n",
    "\n",
    "pylab.ylabel('Match')\n",
    "pylab.xlabel('Eccentricity 2')\n",
    "pylab.legend(loc='upper right')\n",
    "pylab.show()"
   ]
  },
  {
   "cell_type": "code",
   "execution_count": null,
   "metadata": {},
   "outputs": [],
   "source": []
  }
 ],
 "metadata": {
  "kernelspec": {
   "display_name": "PyCBC 1.8.0 [Long Term]",
   "language": "python",
   "name": "pycbc_1.8-lta"
  },
  "language_info": {
   "codemirror_mode": {
    "name": "ipython",
    "version": 2
   },
   "file_extension": ".py",
   "mimetype": "text/x-python",
   "name": "python",
   "nbconvert_exporter": "python",
   "pygments_lexer": "ipython2",
   "version": "2.7.5"
  }
 },
 "nbformat": 4,
 "nbformat_minor": 2
}
