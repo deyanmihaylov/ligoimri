{
 "cells": [
  {
   "cell_type": "markdown",
   "metadata": {
    "toc": "true"
   },
   "source": [
    "# Table of Contents\n",
    " <p>"
   ]
  },
  {
   "cell_type": "code",
   "execution_count": 1,
   "metadata": {
    "ExecuteTime": {
     "end_time": "2018-10-10T14:05:05.315654Z",
     "start_time": "2018-10-10T14:05:03.988049Z"
    }
   },
   "outputs": [
    {
     "name": "stdout",
     "output_type": "stream",
     "text": [
      "\n"
     ]
    }
   ],
   "source": [
    "from pycbc.waveform import td_approximants, get_td_waveform\n",
    "from pycbc.filter import match\n",
    "from pycbc.psd import aLIGOZeroDetHighPower\n",
    "from pycbc import conversions\n",
    "\n",
    "import numpy\n",
    "import pylab"
   ]
  },
  {
   "cell_type": "code",
   "execution_count": 49,
   "metadata": {
    "ExecuteTime": {
     "end_time": "2018-10-10T14:31:38.477505Z",
     "start_time": "2018-10-10T14:31:38.455762Z"
    }
   },
   "outputs": [],
   "source": [
    "def compute_match(q_list, approx1=\"IMRPhenomD\", approx2=\"SEOBNRv4\", f_low=10, sample_rate=4096, mtotal=100):\n",
    "\n",
    "    matchVals = []\n",
    "\n",
    "    for n, q in enumerate(q_list):\n",
    "#         print (n)\n",
    "        m1 = conversions.mass1_from_mtotal_q(mtotal, q)\n",
    "        m2 = conversions.mass2_from_mtotal_q(mtotal, q)\n",
    "\n",
    "        hp, hc = get_td_waveform(approximant=approx1,\n",
    "                                 mass1=m1,\n",
    "                                 mass2=m2,\n",
    "                                 f_lower=f_low,\n",
    "                                 delta_t=1.0/sample_rate)\n",
    "\n",
    "        sp, sc = get_td_waveform(approximant=approx2,\n",
    "                                 mass1=m1,\n",
    "                                 mass2=m2,\n",
    "                                 f_lower=f_low,\n",
    "                                 delta_t=1.0/sample_rate)\n",
    "\n",
    "\n",
    "\n",
    "        # Resize the waveforms to the same length\n",
    "        tlen = max(len(sp), len(hp))\n",
    "        sp.resize(tlen)\n",
    "        hp.resize(tlen)\n",
    "\n",
    "        # Generate the aLIGO ZDHP PSD\n",
    "        delta_f = 1.0 / sp.duration\n",
    "        flen = tlen/2 + 1\n",
    "        psd = aLIGOZeroDetHighPower(flen, delta_f, f_low)\n",
    "\n",
    "        # Note: This takes a while the first time as an FFT plan is generated\n",
    "        # subsequent calls are much faster.\n",
    "        m, i = match(hp, sp, psd=psd, low_frequency_cutoff=f_low)\n",
    "        matchVals.append(m)\n",
    "        \n",
    "    return matchVals"
   ]
  },
  {
   "cell_type": "code",
   "execution_count": 41,
   "metadata": {
    "ExecuteTime": {
     "end_time": "2018-10-10T14:30:26.022814Z",
     "start_time": "2018-10-10T14:30:26.018005Z"
    }
   },
   "outputs": [],
   "source": [
    "q_list = numpy.linspace(1, 100, 10)"
   ]
  },
  {
   "cell_type": "code",
   "execution_count": 55,
   "metadata": {
    "ExecuteTime": {
     "end_time": "2018-10-10T14:33:15.249684Z",
     "start_time": "2018-10-10T14:32:42.464499Z"
    }
   },
   "outputs": [
    {
     "name": "stdout",
     "output_type": "stream",
     "text": [
      "CPU times: user 32.4 s, sys: 265 ms, total: 32.7 s\n",
      "Wall time: 32.8 s\n"
     ]
    }
   ],
   "source": [
    "%%time\n",
    "d_vs_eobv4 = compute_match(q_list=q_list)"
   ]
  },
  {
   "cell_type": "code",
   "execution_count": 56,
   "metadata": {
    "ExecuteTime": {
     "end_time": "2018-10-10T14:33:18.419613Z",
     "start_time": "2018-10-10T14:33:15.252866Z"
    }
   },
   "outputs": [
    {
     "name": "stdout",
     "output_type": "stream",
     "text": [
      "CPU times: user 2.98 s, sys: 175 ms, total: 3.15 s\n",
      "Wall time: 3.16 s\n"
     ]
    }
   ],
   "source": [
    "%%time\n",
    "d_vs_hgimi = compute_match(q_list=q_list, approx1=\"IMRPhenomD\", approx2='HGimri')"
   ]
  },
  {
   "cell_type": "code",
   "execution_count": 57,
   "metadata": {
    "ExecuteTime": {
     "end_time": "2018-10-10T14:33:51.581686Z",
     "start_time": "2018-10-10T14:33:18.424150Z"
    }
   },
   "outputs": [
    {
     "name": "stdout",
     "output_type": "stream",
     "text": [
      "CPU times: user 32.8 s, sys: 243 ms, total: 33 s\n",
      "Wall time: 33.2 s\n"
     ]
    }
   ],
   "source": [
    "%%time\n",
    "eobv4_vs_hgimi = compute_match(q_list=q_list, approx1=\"SEOBNRv4\", approx2='HGimri')"
   ]
  },
  {
   "cell_type": "code",
   "execution_count": 59,
   "metadata": {
    "ExecuteTime": {
     "end_time": "2018-10-10T14:35:11.840122Z",
     "start_time": "2018-10-10T14:35:11.438613Z"
    }
   },
   "outputs": [
    {
     "data": {
      "image/png": "[encoded data removed]",
      "text/plain": [
       "<Figure size 432x288 with 1 Axes>"
      ]
     },
     "metadata": {},
     "output_type": "display_data"
    }
   ],
   "source": [
    "pylab.plot(q_list, d_vs_hgimi, label=\"PhenomD vs HGimir\")\n",
    "pylab.plot(q_list, eobv4_vs_hgimi, label=\"SEOBNRv4 vs HGimir\")\n",
    "pylab.plot(q_list, d_vs_eobv4, label=\"PhenomD vs SEOBNRv4\")\n",
    "\n",
    "pylab.ylabel('Match')\n",
    "pylab.xlabel('mass-ratio')\n",
    "pylab.legend(loc='upper right')\n",
    "# pylab.xlim(0,20)\n",
    "# pylab.ylim(0.99, 1)\n",
    "\n",
    "pylab.title(r\"$f_{low} = 10Hz$\")\n",
    "pylab.show()"
   ]
  },
  {
   "cell_type": "code",
   "execution_count": null,
   "metadata": {},
   "outputs": [],
   "source": []
  }
 ],
 "metadata": {
  "kernelspec": {
   "display_name": "Python 2",
   "language": "python",
   "name": "python2"
  },
  "language_info": {
   "codemirror_mode": {
    "name": "ipython",
    "version": 2
   },
   "file_extension": ".py",
   "mimetype": "text/x-python",
   "name": "python",
   "nbconvert_exporter": "python",
   "pygments_lexer": "ipython2",
   "version": "2.7.14"
  },
  "toc": {
   "nav_menu": {
    "height": "12px",
    "width": "252px"
   },
   "navigate_menu": true,
   "number_sections": true,
   "sideBar": false,
   "threshold": 4,
   "toc_cell": true,
   "toc_section_display": "block",
   "toc_window_display": false
  }
 },
 "nbformat": 4,
 "nbformat_minor": 2
}
