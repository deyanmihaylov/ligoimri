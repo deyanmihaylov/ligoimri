{
 "cells": [
  {
   "cell_type": "code",
   "execution_count": 2,
   "metadata": {},
   "outputs": [],
   "source": [
    "%matplotlib inline"
   ]
  },
  {
   "cell_type": "code",
   "execution_count": 3,
   "metadata": {},
   "outputs": [
    {
     "data": {
      "image/png": "[encoded data removed]",
      "text/plain": [
       "<matplotlib.figure.Figure at 0x7f9a352867d0>"
      ]
     },
     "metadata": {},
     "output_type": "display_data"
    }
   ],
   "source": [
    "import pylab\n",
    "from pycbc import waveform\n",
    "from pycbc import conversions\n",
    "\n",
    "f_low = 10\n",
    "sample_rate = 2 * 4096\n",
    "\n",
    "m1 = conversions.mass1_from_mtotal_q(100, 10)\n",
    "m2 = conversions.mass2_from_mtotal_q(100, 10)\n",
    "\n",
    "hp1, hc1 = waveform.get_td_waveform(approximant=\"IMRPhenomD\",\n",
    "                                mass1=m1,\n",
    "                                mass2=m2,\n",
    "                                delta_t=1.0/sample_rate,\n",
    "                                f_lower=f_low)\n",
    "\n",
    "hp1, hc1 = hp1.trim_zeros(), hc1.trim_zeros()\n",
    "amp1 = waveform.utils.amplitude_from_polarizations(hp1, hc1)\n",
    "f1 = waveform.utils.frequency_from_polarizations(hp1, hc1)\n",
    "\n",
    "hp2, hc2 = waveform.get_td_waveform(approximant=\"SEOBNRv4\",\n",
    "                                mass1=m1,\n",
    "                                mass2=m2,\n",
    "                                delta_t=1.0/sample_rate,\n",
    "                                f_lower=f_low)\n",
    "\n",
    "hp2, hc2 = hp2.trim_zeros(), hc2.trim_zeros()\n",
    "amp2 = waveform.utils.amplitude_from_polarizations(hp2, hc2)\n",
    "f2 = waveform.utils.frequency_from_polarizations(hp2, hc2)\n",
    "\n",
    "pylab.plot(f1.sample_times, f1, label=\"IMRPhenomD\")\n",
    "pylab.plot(f2.sample_times, f2, label=\"SEOBNRv4\")\n",
    "\n",
    "pylab.ylabel('Frequency (Hz)')\n",
    "pylab.xlabel('Time (s)')\n",
    "pylab.legend(loc='upper left')\n",
    "pylab.show()"
   ]
  },
  {
   "cell_type": "code",
   "execution_count": 26,
   "metadata": {},
   "outputs": [
    {
     "name": "stdout",
     "output_type": "stream",
     "text": [
      "54549\n",
      "54549\n",
      "triming\n",
      "54549\n",
      "54548\n",
      "trim_zeros didn't work for some reason.... but this is why the `amp` function didn't work\n",
      "If you don't trim then it works\n"
     ]
    }
   ],
   "source": [
    "# buggy version\n",
    "hp, hc = waveform.get_td_waveform(approximant=\"HGimri\",\n",
    "                                mass1=m1,\n",
    "                                mass2=m2,\n",
    "                                delta_t=1.0/sample_rate,\n",
    "                                f_lower=f_low)\n",
    "\n",
    "print(len(hp))\n",
    "print(len(hc))\n",
    "print(\"triming\")\n",
    "hp, hc = hp.trim_zeros(), hc.trim_zeros()\n",
    "print(len(hp))\n",
    "print(len(hc))\n",
    "print(\"trim_zeros didn't work for some reason.... but this is why the `amp` function didn't work\")\n",
    "print(\"If you don't trim then it works\")"
   ]
  },
  {
   "cell_type": "code",
   "execution_count": 28,
   "metadata": {},
   "outputs": [
    {
     "data": {
      "image/png": "[encoded data removed]",
      "text/plain": [
       "<matplotlib.figure.Figure at 0x7f9a26828a90>"
      ]
     },
     "metadata": {},
     "output_type": "display_data"
    }
   ],
   "source": [
    "hp, hc = waveform.get_td_waveform(approximant=\"HGimri\",\n",
    "                                mass1=m1,\n",
    "                                mass2=m2,\n",
    "                                delta_t=1.0/sample_rate,\n",
    "                                f_lower=f_low)\n",
    "\n",
    "# hp, hc = hp.trim_zeros(), hc.trim_zeros()\n",
    "amp = waveform.utils.amplitude_from_polarizations(hp, hc)\n",
    "f = waveform.utils.frequency_from_polarizations(hp, hc)\n",
    "\n",
    "pylab.plot(f.sample_times, f, label=\"HGimri\")\n",
    "\n",
    "pylab.ylabel('Frequency (Hz)')\n",
    "pylab.xlabel('Time (s)')\n",
    "pylab.legend(loc='upper left')\n",
    "pylab.show()"
   ]
  },
  {
   "cell_type": "code",
   "execution_count": null,
   "metadata": {},
   "outputs": [],
   "source": []
  },
  {
   "cell_type": "code",
   "execution_count": null,
   "metadata": {},
   "outputs": [],
   "source": []
  }
 ],
 "metadata": {
  "kernelspec": {
   "display_name": "pycbc1.12.2",
   "language": "python",
   "name": "pycbc1.12.2"
  },
  "language_info": {
   "codemirror_mode": {
    "name": "ipython",
    "version": 2
   },
   "file_extension": ".py",
   "mimetype": "text/x-python",
   "name": "python",
   "nbconvert_exporter": "python",
   "pygments_lexer": "ipython2",
   "version": "2.7.5"
  }
 },
 "nbformat": 4,
 "nbformat_minor": 2
}
